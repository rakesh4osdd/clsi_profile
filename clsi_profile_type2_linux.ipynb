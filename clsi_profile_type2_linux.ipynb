{
 "cells": [
  {
   "cell_type": "code",
   "execution_count": 3,
   "id": "9aa0a6f7",
   "metadata": {},
   "outputs": [],
   "source": [
    "# ASIST module2 | map AST result to the CLSI breakporints with combination antibiotics\n",
    "# By rakesh4osdd@gmail.com, 06-Jun-2021\n",
    "import pandas as pd\n",
    "import re\n",
    "import sys"
   ]
  },
  {
   "cell_type": "code",
   "execution_count": 4,
   "id": "9af8387e",
   "metadata": {},
   "outputs": [
    {
     "name": "stdout",
     "output_type": "stream",
     "text": [
      "1.2.4 2.2.1\n"
     ]
    }
   ],
   "source": [
    "print(pd.__version__, re.__version__)"
   ]
  },
  {
   "cell_type": "code",
   "execution_count": 5,
   "id": "73d0783c",
   "metadata": {},
   "outputs": [],
   "source": [
    "# compare two MIC value strings\n",
    "def check_mic(mic1,mic2,mic_type):\n",
    "    #print(mic1,mic2,mic_type)\n",
    "    try:\n",
    "        if '/' in mic1:\n",
    "            m1a = mic1.split('/')[0]\n",
    "            m1b = mic1.split('/')[1]\n",
    "            if float(m1a)==0 or float(m1b)==0:\n",
    "                strain_type='Strain could not be classified'\n",
    "                return(strain_type)          \n",
    "        elif '/' in mic2:\n",
    "            m1a = mic1\n",
    "            if float(m1a)==0:\n",
    "                strain_type='Strain could not be classified'\n",
    "                return(strain_type)            \n",
    "            m1b = '1'\n",
    "        elif float(mic1)==0:\n",
    "            strain_type='Strain could not be classified'\n",
    "            return(strain_type)\n",
    "        else:\n",
    "            m1a = mic1\n",
    "            \n",
    "        if '-' in mic2:\n",
    "            m2a = mic2.split('-')[0]\n",
    "            m2b = mic2.split('-')[1]           \n",
    "         \n",
    "    except ValueError:\n",
    "        strain_type='Strain could not be classified' \n",
    "        return(strain_type)\n",
    "    try:\n",
    "        if '-' in mic2 and mic_type == 'i':   # for intermediate only\n",
    "            if '/' in mic2:\n",
    "                m2a = mic2.split('-')[0].split('/')[0]\n",
    "                m2b = mic2.split('-')[0].split('/')[1]\n",
    "                m2aa = mic2.split('-')[1].split('/')[0]\n",
    "                m2bb = mic2.split('-')[1].split('/')[1]\n",
    "                if (float(m2aa)>=float(m1a)>=float(m2a) and float(m2bb)>=float(m1b)>=float(m2b)):\n",
    "                    #print('intermediate')\n",
    "                    m_type='Intermediate'\n",
    "                else:\n",
    "                    #print('not define')\n",
    "                    m_type='Strain could not be classified'\n",
    "            else:\n",
    "                m2a = mic2.split('-')[0]\n",
    "                m2b = mic2.split('-')[1] \n",
    "                if (float(m2b)>=float(m1a)>=float(m2a)):\n",
    "                    #print('intermediate')\n",
    "                    m_type='Intermediate'\n",
    "                else:\n",
    "                    #print('not define')\n",
    "                    m_type='Strain could not be classified'                \n",
    "            #print (m1a,m1b,m2a,m2b,m2aa,m2bb)\n",
    "        elif '/' in mic2:\n",
    "            m2a = mic2.split('/')[0]\n",
    "            m2b = mic2.split('/')[1]\n",
    "            #print(m1a,m1b,m2a,m2b,mic_type)\n",
    "            if (mic_type=='s' and (float(m1a)<=float(m2a) and float(m1b)<=float(m2b))):\n",
    "                m_type='Susceptible'\n",
    "            elif (mic_type=='r' and (float(m1a)>=float(m2a) and float(m1b)>=float(m2b))):\n",
    "                m_type='Resistant'\n",
    "            elif (mic_type=='i' and (float(m1a)==float(m2a) and float(m1b)==float(m2b))):\n",
    "                m_type='Intermediate'\n",
    "            else:\n",
    "                m_type='Strain could not be classified'\n",
    "        elif '-' in mic2:\n",
    "                m_type='Strain could not be classified'\n",
    "        else:\n",
    "            m2a=mic2\n",
    "            if (mic_type=='s' and (float(m1a)<=float(m2a))):\n",
    "                m_type='Susceptible'\n",
    "            elif (mic_type=='r' and (float(m1a)>=float(m2a))):\n",
    "                m_type='Resistant'\n",
    "            elif (mic_type=='i' and (float(m1a)==float(m2a))):\n",
    "                m_type='Intermediate'\n",
    "            else:\n",
    "                m_type='Strain could not be classified-1'        \n",
    "    except IndexError:\n",
    "        strain_type='Strain could not be classified-2' \n",
    "        return(strain_type)\n",
    "    \n",
    "    return(m_type)\n",
    "\n",
    "#check_mic('65','32-64','i')"
   ]
  },
  {
   "cell_type": "code",
   "execution_count": 6,
   "id": "4d2ab1b1",
   "metadata": {},
   "outputs": [],
   "source": [
    "# compare MIC value in pandas list\n",
    "def sus_res_int(mic):\n",
    "    #print(mic)\n",
    "    o_mic = mic[0].replace(' ', '')\n",
    "    s_mic = mic[1].replace(' ', '')\n",
    "    r_mic = mic[2].replace(' ', '')\n",
    "    i_mic = mic[3].replace(' ', '')\n",
    "    try:\n",
    "        if check_mic(o_mic,s_mic,'s')=='Susceptible':\n",
    "            strain_type='Susceptible'\n",
    "        elif check_mic(o_mic,r_mic,'r')=='Resistant':\n",
    "            strain_type='Resistant'\n",
    "        elif check_mic(o_mic,i_mic,'i')=='Intermediate':\n",
    "            strain_type='Intermediate'                    \n",
    "        else:\n",
    "            strain_type='Strain could not be classified'\n",
    "    except ValueError:\n",
    "        strain_type='Strain could not be classified'            \n",
    "    return(strain_type)\n",
    "\n",
    "#mic=['128','16/4','128/4','32/4-64/4']\n",
    "#sus_res_int(mic)"
   ]
  },
  {
   "cell_type": "code",
   "execution_count": 7,
   "id": "0e22ef0d",
   "metadata": {},
   "outputs": [
    {
     "data": {
      "text/plain": [
       "'# for input argument\\ninput_user = sys.argv[1]\\ninput_clsi = sys.argv[2]\\noutput_table = sys.argv[3]'"
      ]
     },
     "execution_count": 7,
     "metadata": {},
     "output_type": "execute_result"
    }
   ],
   "source": [
    "'''# for input argument\n",
    "input_user = sys.argv[1]\n",
    "input_clsi = sys.argv[2]\n",
    "output_table = sys.argv[3]'''"
   ]
  },
  {
   "cell_type": "code",
   "execution_count": 8,
   "id": "21d5fe63",
   "metadata": {},
   "outputs": [],
   "source": [
    "input_user='input.csv'\n",
    "input_clsi='clsi.csv'\n",
    "output_profile=input_user+'_profile.csv'\n",
    "output_table=input_user+'_table.csv'"
   ]
  },
  {
   "cell_type": "code",
   "execution_count": 9,
   "id": "1e64b025",
   "metadata": {},
   "outputs": [
    {
     "data": {
      "text/html": [
       "<div>\n",
       "<style scoped>\n",
       "    .dataframe tbody tr th:only-of-type {\n",
       "        vertical-align: middle;\n",
       "    }\n",
       "\n",
       "    .dataframe tbody tr th {\n",
       "        vertical-align: top;\n",
       "    }\n",
       "\n",
       "    .dataframe thead th {\n",
       "        text-align: right;\n",
       "    }\n",
       "</style>\n",
       "<table border=\"1\" class=\"dataframe\">\n",
       "  <thead>\n",
       "    <tr style=\"text-align: right;\">\n",
       "      <th></th>\n",
       "      <th>Strain name</th>\n",
       "      <th>Antibiotics</th>\n",
       "      <th>MIC</th>\n",
       "    </tr>\n",
       "  </thead>\n",
       "  <tbody>\n",
       "    <tr>\n",
       "      <th>0</th>\n",
       "      <td>Acinetobacter baumannii A85</td>\n",
       "      <td>Colistin</td>\n",
       "      <td>0.1</td>\n",
       "    </tr>\n",
       "    <tr>\n",
       "      <th>1</th>\n",
       "      <td>Acinetobacter baumannii A85</td>\n",
       "      <td>Colistin</td>\n",
       "      <td>1</td>\n",
       "    </tr>\n",
       "    <tr>\n",
       "      <th>2</th>\n",
       "      <td>Acinetobacter baumannii A85</td>\n",
       "      <td>Colistin</td>\n",
       "      <td>2</td>\n",
       "    </tr>\n",
       "    <tr>\n",
       "      <th>3</th>\n",
       "      <td>Acinetobacter baumannii AB307-0294</td>\n",
       "      <td>Ampicillin</td>\n",
       "      <td>0</td>\n",
       "    </tr>\n",
       "    <tr>\n",
       "      <th>4</th>\n",
       "      <td>Acinetobacter baumannii AB307-0294</td>\n",
       "      <td>Ampicillin/sulbactam</td>\n",
       "      <td>mg/L</td>\n",
       "    </tr>\n",
       "    <tr>\n",
       "      <th>5</th>\n",
       "      <td>Acinetobacter baumannii AB307-0294</td>\n",
       "      <td>piperacillin/tazobactam</td>\n",
       "      <td>0</td>\n",
       "    </tr>\n",
       "    <tr>\n",
       "      <th>6</th>\n",
       "      <td>Acinetobacter baumannii AB307-0294</td>\n",
       "      <td>Cefazolin</td>\n",
       "      <td>64</td>\n",
       "    </tr>\n",
       "    <tr>\n",
       "      <th>7</th>\n",
       "      <td>Acinetobacter baumannii AB307-0294</td>\n",
       "      <td>Ceftriaxone</td>\n",
       "      <td>16</td>\n",
       "    </tr>\n",
       "    <tr>\n",
       "      <th>8</th>\n",
       "      <td>Acinetobacter baumannii AB307-0294</td>\n",
       "      <td>Cefepime</td>\n",
       "      <td>8</td>\n",
       "    </tr>\n",
       "    <tr>\n",
       "      <th>9</th>\n",
       "      <td>Acinetobacter baumannii AB307-0294</td>\n",
       "      <td>Meropenem</td>\n",
       "      <td>0.25</td>\n",
       "    </tr>\n",
       "    <tr>\n",
       "      <th>10</th>\n",
       "      <td>Acinetobacter baumannii AB307-0294</td>\n",
       "      <td>Imipenem</td>\n",
       "      <td>1</td>\n",
       "    </tr>\n",
       "    <tr>\n",
       "      <th>11</th>\n",
       "      <td>Acinetobacter baumannii AB307-0294</td>\n",
       "      <td>Tigecycline</td>\n",
       "      <td>0.5</td>\n",
       "    </tr>\n",
       "    <tr>\n",
       "      <th>12</th>\n",
       "      <td>Acinetobacter baumannii AB5075-UW</td>\n",
       "      <td>Ceftazidime</td>\n",
       "      <td>&gt;128</td>\n",
       "    </tr>\n",
       "    <tr>\n",
       "      <th>13</th>\n",
       "      <td>Acinetobacter baumannii AB5075-UW</td>\n",
       "      <td>Cefepime</td>\n",
       "      <td>&gt;256</td>\n",
       "    </tr>\n",
       "    <tr>\n",
       "      <th>14</th>\n",
       "      <td>Acinetobacter baumannii AB5075-UW</td>\n",
       "      <td>Ciprofloxacin</td>\n",
       "      <td>&gt;32</td>\n",
       "    </tr>\n",
       "    <tr>\n",
       "      <th>15</th>\n",
       "      <td>Acinetobacter baumannii DU202</td>\n",
       "      <td>colistin</td>\n",
       "      <td></td>\n",
       "    </tr>\n",
       "    <tr>\n",
       "      <th>16</th>\n",
       "      <td>Acinetobacter baumannii DU202</td>\n",
       "      <td>trimethoprim/sulfamethoxazole</td>\n",
       "      <td>8/152</td>\n",
       "    </tr>\n",
       "    <tr>\n",
       "      <th>17</th>\n",
       "      <td>Acinetobacter baumannii DU202</td>\n",
       "      <td>Ampicillin/sulbactam</td>\n",
       "      <td>&gt;=0.3 mg/L</td>\n",
       "    </tr>\n",
       "    <tr>\n",
       "      <th>18</th>\n",
       "      <td>Acinetobacter baumannii DU202</td>\n",
       "      <td>ticarcillin/clavulanic acid</td>\n",
       "      <td>&gt;=128/2</td>\n",
       "    </tr>\n",
       "    <tr>\n",
       "      <th>19</th>\n",
       "      <td>Acinetobacter baumannii DU202</td>\n",
       "      <td>piperacillin/tazobactam</td>\n",
       "      <td>NA</td>\n",
       "    </tr>\n",
       "    <tr>\n",
       "      <th>20</th>\n",
       "      <td>Acinetobacter baumannii DU202</td>\n",
       "      <td>trimethoprim/sulfamethoxazole</td>\n",
       "      <td>8/152</td>\n",
       "    </tr>\n",
       "    <tr>\n",
       "      <th>21</th>\n",
       "      <td>Acinetobacter baumannii ORAB01</td>\n",
       "      <td>piperacillin/tazobactam</td>\n",
       "      <td>&gt;64/4</td>\n",
       "    </tr>\n",
       "    <tr>\n",
       "      <th>22</th>\n",
       "      <td>Acinetobacter baumannii strain MRSN7100</td>\n",
       "      <td>amoxicillin/clavulanic acid</td>\n",
       "      <td>16/8</td>\n",
       "    </tr>\n",
       "    <tr>\n",
       "      <th>23</th>\n",
       "      <td>Acinetobacter baumannii strain MRSN7168</td>\n",
       "      <td>amoxicillin/clavulanic acid</td>\n",
       "      <td>16/8</td>\n",
       "    </tr>\n",
       "    <tr>\n",
       "      <th>24</th>\n",
       "      <td>Acinetobacter baumannii strain MRSN7336</td>\n",
       "      <td>amoxicillin/clavulanic acid</td>\n",
       "      <td>16/8</td>\n",
       "    </tr>\n",
       "    <tr>\n",
       "      <th>25</th>\n",
       "      <td>Acinetobacter baumannii strain MRSN7834</td>\n",
       "      <td>amoxicillin/clavulanic acid</td>\n",
       "      <td>16/8</td>\n",
       "    </tr>\n",
       "    <tr>\n",
       "      <th>26</th>\n",
       "      <td>Acinetobacter baumannii strain FDA-CDC-AR_0305</td>\n",
       "      <td>polymyxin B</td>\n",
       "      <td>1</td>\n",
       "    </tr>\n",
       "    <tr>\n",
       "      <th>27</th>\n",
       "      <td>Acinetobacter baumannii strain FDA-CDC-AR_0306</td>\n",
       "      <td>polymyxin B</td>\n",
       "      <td>1</td>\n",
       "    </tr>\n",
       "    <tr>\n",
       "      <th>28</th>\n",
       "      <td>Acinetobacter baumannii strain FDA-CDC-AR_0307</td>\n",
       "      <td>polymyxin B</td>\n",
       "      <td>8</td>\n",
       "    </tr>\n",
       "    <tr>\n",
       "      <th>29</th>\n",
       "      <td>Acinetobacter baumannii strain FDA-CDC-AR_0308</td>\n",
       "      <td>polymyxin B</td>\n",
       "      <td>4</td>\n",
       "    </tr>\n",
       "  </tbody>\n",
       "</table>\n",
       "</div>"
      ],
      "text/plain": [
       "                                       Strain name  \\\n",
       "0                      Acinetobacter baumannii A85   \n",
       "1                      Acinetobacter baumannii A85   \n",
       "2                      Acinetobacter baumannii A85   \n",
       "3               Acinetobacter baumannii AB307-0294   \n",
       "4               Acinetobacter baumannii AB307-0294   \n",
       "5               Acinetobacter baumannii AB307-0294   \n",
       "6               Acinetobacter baumannii AB307-0294   \n",
       "7               Acinetobacter baumannii AB307-0294   \n",
       "8               Acinetobacter baumannii AB307-0294   \n",
       "9               Acinetobacter baumannii AB307-0294   \n",
       "10              Acinetobacter baumannii AB307-0294   \n",
       "11              Acinetobacter baumannii AB307-0294   \n",
       "12               Acinetobacter baumannii AB5075-UW   \n",
       "13               Acinetobacter baumannii AB5075-UW   \n",
       "14               Acinetobacter baumannii AB5075-UW   \n",
       "15                   Acinetobacter baumannii DU202   \n",
       "16                   Acinetobacter baumannii DU202   \n",
       "17                   Acinetobacter baumannii DU202   \n",
       "18                   Acinetobacter baumannii DU202   \n",
       "19                   Acinetobacter baumannii DU202   \n",
       "20                   Acinetobacter baumannii DU202   \n",
       "21                  Acinetobacter baumannii ORAB01   \n",
       "22         Acinetobacter baumannii strain MRSN7100   \n",
       "23         Acinetobacter baumannii strain MRSN7168   \n",
       "24         Acinetobacter baumannii strain MRSN7336   \n",
       "25         Acinetobacter baumannii strain MRSN7834   \n",
       "26  Acinetobacter baumannii strain FDA-CDC-AR_0305   \n",
       "27  Acinetobacter baumannii strain FDA-CDC-AR_0306   \n",
       "28  Acinetobacter baumannii strain FDA-CDC-AR_0307   \n",
       "29  Acinetobacter baumannii strain FDA-CDC-AR_0308   \n",
       "\n",
       "                      Antibiotics         MIC  \n",
       "0                        Colistin         0.1  \n",
       "1                        Colistin           1  \n",
       "2                        Colistin           2  \n",
       "3                      Ampicillin           0  \n",
       "4            Ampicillin/sulbactam        mg/L  \n",
       "5         piperacillin/tazobactam           0  \n",
       "6                       Cefazolin          64  \n",
       "7                     Ceftriaxone          16  \n",
       "8                        Cefepime           8  \n",
       "9                       Meropenem        0.25  \n",
       "10                       Imipenem           1  \n",
       "11                    Tigecycline         0.5  \n",
       "12                    Ceftazidime        >128  \n",
       "13                       Cefepime        >256  \n",
       "14                  Ciprofloxacin         >32  \n",
       "15                      colistin               \n",
       "16  trimethoprim/sulfamethoxazole       8/152  \n",
       "17           Ampicillin/sulbactam  >=0.3 mg/L  \n",
       "18    ticarcillin/clavulanic acid     >=128/2  \n",
       "19       piperacillin/tazobactam           NA  \n",
       "20  trimethoprim/sulfamethoxazole       8/152  \n",
       "21        piperacillin/tazobactam       >64/4  \n",
       "22    amoxicillin/clavulanic acid        16/8  \n",
       "23    amoxicillin/clavulanic acid        16/8  \n",
       "24    amoxicillin/clavulanic acid        16/8  \n",
       "25    amoxicillin/clavulanic acid        16/8  \n",
       "26                    polymyxin B           1  \n",
       "27                    polymyxin B           1  \n",
       "28                    polymyxin B           8  \n",
       "29                    polymyxin B           4  "
      ]
     },
     "execution_count": 9,
     "metadata": {},
     "output_type": "execute_result"
    }
   ],
   "source": [
    "# read user AST data with selected 3 columns\n",
    "strain_mic=pd.read_csv(input_user, sep=',', usecols =['Strain name', 'Antibiotics', 'MIC'],na_filter=False)\n",
    "strain_mic"
   ]
  },
  {
   "cell_type": "code",
   "execution_count": 11,
   "id": "0d30ddc3",
   "metadata": {},
   "outputs": [],
   "source": [
    "clsi_bp=pd.read_csv(input_clsi,sep=',')\n",
    "\n",
    "#clsi_bp[clsi_bp[['Antibiotics', 'Susceptible']].duplicated()].shape"
   ]
  },
  {
   "cell_type": "code",
   "execution_count": 9,
   "id": "a818676d",
   "metadata": {},
   "outputs": [],
   "source": [
    "#clsi_bp\n",
    "#strain_mic"
   ]
  },
  {
   "cell_type": "code",
   "execution_count": 10,
   "id": "c6b4c59b",
   "metadata": {},
   "outputs": [],
   "source": [
    "# convert MIC to numbers sMIC, rMIC\n",
    "clsi_bp['s_mic'] =clsi_bp[['Susceptible']].applymap(lambda x: (re.sub(r'[^0-9.\\/-]', '', x)))\n",
    "clsi_bp['r_mic'] =clsi_bp[['Resistant']].applymap(lambda x: (re.sub(r'[^0-9.\\/-]', '', x)))\n",
    "clsi_bp['i_mic'] = clsi_bp[['Intermediate']].applymap(lambda x: (re.sub(r'[^0-9.\\/-]', '', x)))"
   ]
  },
  {
   "cell_type": "code",
   "execution_count": 11,
   "id": "d0171f94",
   "metadata": {},
   "outputs": [],
   "source": [
    "#clsi_bp['i_mic'] = clsi_bp[['Intermediate']].applymap(lambda x: (re.sub(r'[^0-9.\\/-]', '', x)))"
   ]
  },
  {
   "cell_type": "code",
   "execution_count": 12,
   "id": "fe45b2dd",
   "metadata": {},
   "outputs": [],
   "source": [
    "# Read only numbers in MIC values\n",
    "#try:\n",
    "strain_mic['o_mic']=strain_mic[['MIC']].applymap(lambda x: (re.sub(r'[^0-9.\\/]','', x)))\n",
    "#except TypeError:\n",
    "#    print('Waring: Error in MIC value')"
   ]
  },
  {
   "cell_type": "code",
   "execution_count": 13,
   "id": "ddbbe4d9",
   "metadata": {},
   "outputs": [],
   "source": [
    "#strain_mic"
   ]
  },
  {
   "cell_type": "code",
   "execution_count": 12,
   "id": "640508f1",
   "metadata": {},
   "outputs": [],
   "source": [
    "# capitalize each Antibiotic Name for comparision with removing whitespace\n",
    "strain_mic['Strain name']=strain_mic['Strain name'].str.capitalize().str.replace(\" \",\"\")\n",
    "strain_mic['Antibiotics']=strain_mic['Antibiotics'].str.capitalize().str.replace(\" \",\"\")\n",
    "\n",
    "clsi_bp['Antibiotics']=clsi_bp['Antibiotics'].str.capitalize().str.replace(\" \",\"\")"
   ]
  },
  {
   "cell_type": "code",
   "execution_count": 16,
   "id": "9ff3ba13",
   "metadata": {},
   "outputs": [
    {
     "name": "stdout",
     "output_type": "stream",
     "text": [
      "Please provide a single MIC value in input file for given duplicates combination of 'Strain name and Antibiotics' to use the tool:-\n",
      "                     Strain name                    Antibiotics    MIC\n",
      "0     Acinetobacterbaumanniia85                       Colistin    0.1\n",
      "1     Acinetobacterbaumanniia85                       Colistin      1\n",
      "2     Acinetobacterbaumanniia85                       Colistin      2\n",
      "16  Acinetobacterbaumanniidu202  Trimethoprim/sulfamethoxazole  8/152\n",
      "20  Acinetobacterbaumanniidu202  Trimethoprim/sulfamethoxazole  8/152\n"
     ]
    }
   ],
   "source": [
    "dups=strain_mic[strain_mic[['Strain name', 'Antibiotics']].duplicated(keep=False)]\n",
    "if dups.shape[0] != 0:\n",
    "    print ('Please provide a single MIC value in input file for given duplicates combination of \\'Strain name and Antibiotics\\' to use the tool:-\\n',dups)\n",
    "    #exit()"
   ]
  },
  {
   "cell_type": "code",
   "execution_count": 15,
   "id": "91bfc94d",
   "metadata": {},
   "outputs": [],
   "source": [
    "#compare CLSI Antibiotics only\n",
    "#result=pd.merge(strain_mic, clsi_bp, on='Antibiotics',how='inner',  indicator=True)[['Strain name','Antibiotics', 'MIC', 'o_mic', 's_mic', 'r_mic','_merge']]\n",
    "try:\n",
    "    result=pd.merge(strain_mic, clsi_bp, on='Antibiotics',how='inner')[['Strain name','Antibiotics', 'MIC', 'o_mic', 's_mic', 'r_mic','i_mic']]\n",
    "except KeyError:\n",
    "    print('Waring: Error in input Values')"
   ]
  },
  {
   "cell_type": "code",
   "execution_count": 16,
   "id": "b171f205",
   "metadata": {},
   "outputs": [],
   "source": [
    "#compare MIC values and assign Susceptible and Resistant to Strain\n",
    "#try:\n",
    "result[['CLSI_profile']] = result[['o_mic','s_mic','r_mic','i_mic']].apply(sus_res_int,axis = 1)\n",
    "#except ValueError:\n",
    "#    print('Waring: Error in input MIC value')"
   ]
  },
  {
   "cell_type": "code",
   "execution_count": 26,
   "id": "3336fd92",
   "metadata": {},
   "outputs": [],
   "source": [
    "#result\n"
   ]
  },
  {
   "cell_type": "code",
   "execution_count": 223,
   "id": "f0dacfd1",
   "metadata": {},
   "outputs": [],
   "source": [
    "#result[['Strain name', 'Antibiotics', 'MIC','s_mic','r_mic','CLSI_profile']].to_csv(output_profile,sep=',', index=False, encoding='utf-8-sig')"
   ]
  },
  {
   "cell_type": "code",
   "execution_count": 224,
   "id": "3d8d03f7",
   "metadata": {},
   "outputs": [],
   "source": [
    "#create a pivot table for ASIST\n",
    "table=result[['Strain name', 'Antibiotics','CLSI_profile']].drop_duplicates()\n",
    "result_table=pd.pivot_table(table, values ='CLSI_profile', index =['Strain name'],columns =['Antibiotics'], aggfunc = lambda x: ' '.join(x))"
   ]
  },
  {
   "cell_type": "code",
   "execution_count": 225,
   "id": "7d7223a3",
   "metadata": {},
   "outputs": [],
   "source": [
    "\n",
    "#result_table"
   ]
  },
  {
   "cell_type": "code",
   "execution_count": 226,
   "id": "8a41b2ef",
   "metadata": {},
   "outputs": [],
   "source": [
    "#result_table.to_csv(output_table,na_rep='NA')"
   ]
  },
  {
   "cell_type": "code",
   "execution_count": 227,
   "id": "8c9e5f87",
   "metadata": {},
   "outputs": [],
   "source": [
    "# reorder the Antibiotics for ASIST\n",
    "clsi_ab=['Amikacin','Tobramycin','Gentamycin','Imipenem','Meropenem','Doripenem','Ciprofloxacin','Levofloxacin',\n",
    "         'Piperacillin/tazobactam','Ticarcillin/clavulanicacid','Cefotaxime','Ceftriaxone','Ceftazidime','Cefepime',\n",
    "         'Trimethoprim/sulfamethoxazole','Ampicillin/sulbactam','Colistin','Polymyxinb','Tetracycline','Doxicycline ',\n",
    "         'Minocycline']\n",
    "result_selected=result_table.filter(clsi_ab)"
   ]
  },
  {
   "cell_type": "code",
   "execution_count": 228,
   "id": "cdf43afb",
   "metadata": {},
   "outputs": [],
   "source": [
    "#print(result_selected.shape, result_table.shape)"
   ]
  },
  {
   "cell_type": "code",
   "execution_count": 229,
   "id": "c4c4df30",
   "metadata": {},
   "outputs": [],
   "source": [
    "result_selected.insert(0,'Resistance_phenotype','')"
   ]
  },
  {
   "cell_type": "code",
   "execution_count": 230,
   "id": "9adb2703",
   "metadata": {},
   "outputs": [],
   "source": [
    "#rename headers\n",
    "result_selected=result_selected.rename(columns = {'Ticarcillin/clavulanicacid':'Ticarcillin/clavulanic acid','Piperacillin/tazobactam':'Piperacillin/ tazobactam','Trimethoprim/sulfamethoxazole': 'Trimethoprim/ sulfamethoxazole','Ampicillin/sulbactam':'Ampicillin/ sulbactam', 'Polymyxinb': 'Polymyxin B'} )"
   ]
  },
  {
   "cell_type": "code",
   "execution_count": 231,
   "id": "50e6cf5f",
   "metadata": {},
   "outputs": [],
   "source": [
    "#result_selected"
   ]
  },
  {
   "cell_type": "code",
   "execution_count": 232,
   "id": "2833671c",
   "metadata": {},
   "outputs": [],
   "source": [
    "result_selected.to_csv(output_table,na_rep='NA')"
   ]
  }
 ],
 "metadata": {
  "kernelspec": {
   "display_name": "Python 3",
   "language": "python",
   "name": "python3"
  }
 },
 "nbformat": 4,
 "nbformat_minor": 5
}
